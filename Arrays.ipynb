{
 "cells": [
  {
   "cell_type": "markdown",
   "id": "0181adcb",
   "metadata": {},
   "source": [
    "# Laço FOR acessando dados de um array"
   ]
  },
  {
   "cell_type": "code",
   "execution_count": 1,
   "id": "b4b2b0b6",
   "metadata": {},
   "outputs": [],
   "source": [
    "a=[12, 15, 22, 33, 44, 89, 100]"
   ]
  },
  {
   "cell_type": "code",
   "execution_count": 2,
   "id": "06e3f866",
   "metadata": {},
   "outputs": [
    {
     "name": "stdout",
     "output_type": "stream",
     "text": [
      "[12, 15, 22, 33, 44, 89, 100]\n"
     ]
    }
   ],
   "source": [
    "print(a)"
   ]
  },
  {
   "cell_type": "code",
   "execution_count": 3,
   "id": "df43e3ec",
   "metadata": {
    "scrolled": false
   },
   "outputs": [
    {
     "name": "stdout",
     "output_type": "stream",
     "text": [
      "12\n",
      "15\n",
      "22\n",
      "33\n",
      "44\n",
      "89\n",
      "100\n"
     ]
    }
   ],
   "source": [
    "for i in range(7):\n",
    "    print(a[i])\n"
   ]
  },
  {
   "cell_type": "code",
   "execution_count": 4,
   "id": "e64a4362",
   "metadata": {},
   "outputs": [
    {
     "data": {
      "text/plain": [
       "7"
      ]
     },
     "execution_count": 4,
     "metadata": {},
     "output_type": "execute_result"
    }
   ],
   "source": [
    "len(a)"
   ]
  },
  {
   "cell_type": "code",
   "execution_count": 5,
   "id": "143ec52f",
   "metadata": {},
   "outputs": [
    {
     "name": "stdout",
     "output_type": "stream",
     "text": [
      "12\n",
      "15\n",
      "22\n",
      "33\n",
      "44\n",
      "89\n",
      "100\n"
     ]
    }
   ],
   "source": [
    "for i in range(len(a)):\n",
    "    print(a[i])"
   ]
  },
  {
   "cell_type": "code",
   "execution_count": 6,
   "id": "fdb898a6",
   "metadata": {},
   "outputs": [
    {
     "data": {
      "text/plain": [
       "100"
      ]
     },
     "execution_count": 6,
     "metadata": {},
     "output_type": "execute_result"
    }
   ],
   "source": [
    "a[6]"
   ]
  },
  {
   "cell_type": "code",
   "execution_count": 7,
   "id": "1b50d823",
   "metadata": {},
   "outputs": [
    {
     "data": {
      "text/plain": [
       "100"
      ]
     },
     "execution_count": 7,
     "metadata": {},
     "output_type": "execute_result"
    }
   ],
   "source": [
    "a[6]"
   ]
  },
  {
   "cell_type": "code",
   "execution_count": 8,
   "id": "cae0344e",
   "metadata": {},
   "outputs": [],
   "source": [
    "a[0] = 23"
   ]
  },
  {
   "cell_type": "code",
   "execution_count": 9,
   "id": "78ecd757",
   "metadata": {},
   "outputs": [
    {
     "data": {
      "text/plain": [
       "23"
      ]
     },
     "execution_count": 9,
     "metadata": {},
     "output_type": "execute_result"
    }
   ],
   "source": [
    "a[0]"
   ]
  },
  {
   "cell_type": "code",
   "execution_count": 10,
   "id": "39fc698e",
   "metadata": {},
   "outputs": [
    {
     "name": "stdout",
     "output_type": "stream",
     "text": [
      "23\n",
      "15\n",
      "22\n",
      "33\n",
      "44\n",
      "89\n",
      "100\n"
     ]
    }
   ],
   "source": [
    "for i in range(7):\n",
    "    print(a[i])\n",
    "    "
   ]
  },
  {
   "cell_type": "code",
   "execution_count": 11,
   "id": "016e20c3",
   "metadata": {},
   "outputs": [
    {
     "name": "stdout",
     "output_type": "stream",
     "text": [
      "8 [23, 15, 22, 33, 44, 89, 100, 123]\n"
     ]
    }
   ],
   "source": [
    "a.append(123)\n",
    "print(len(a), a)"
   ]
  },
  {
   "cell_type": "code",
   "execution_count": 12,
   "id": "51a8893e",
   "metadata": {},
   "outputs": [
    {
     "name": "stdout",
     "output_type": "stream",
     "text": [
      "8 [12, 12, 22, 33, 44, 89, 100, 12]\n"
     ]
    }
   ],
   "source": [
    "a[0]=12\n",
    "a[1]=12\n",
    "a[7]=12\n",
    "print(len(a), a)\n",
    "\n"
   ]
  },
  {
   "cell_type": "code",
   "execution_count": 13,
   "id": "d5dc00b9",
   "metadata": {},
   "outputs": [
    {
     "data": {
      "text/plain": [
       "3"
      ]
     },
     "execution_count": 13,
     "metadata": {},
     "output_type": "execute_result"
    }
   ],
   "source": [
    "a.count(12)"
   ]
  },
  {
   "cell_type": "code",
   "execution_count": 14,
   "id": "1cf2751f",
   "metadata": {},
   "outputs": [
    {
     "data": {
      "text/plain": [
       "0"
      ]
     },
     "execution_count": 14,
     "metadata": {},
     "output_type": "execute_result"
    }
   ],
   "source": [
    "a.index(12)"
   ]
  },
  {
   "cell_type": "code",
   "execution_count": 15,
   "id": "126d420b",
   "metadata": {},
   "outputs": [
    {
     "data": {
      "text/plain": [
       "6"
      ]
     },
     "execution_count": 15,
     "metadata": {},
     "output_type": "execute_result"
    }
   ],
   "source": [
    "a.index(100)"
   ]
  },
  {
   "cell_type": "code",
   "execution_count": 16,
   "id": "8639e2e5",
   "metadata": {},
   "outputs": [
    {
     "name": "stdout",
     "output_type": "stream",
     "text": [
      "Array a:  8 [12, 12, 22, 33, 44, 89, 100, 12]\n",
      "Array b:  5 [1, 2, 3, 4, 5]\n"
     ]
    }
   ],
   "source": [
    "print(\"Array a: \", len(a), a)\n",
    "b=[1,2,3,4,5]\n",
    "print(\"Array b: \", len(b), b)"
   ]
  },
  {
   "cell_type": "code",
   "execution_count": 17,
   "id": "14d9538b",
   "metadata": {},
   "outputs": [
    {
     "name": "stdout",
     "output_type": "stream",
     "text": [
      "Array a:  13 [12, 12, 22, 33, 44, 89, 100, 12, 1, 2, 3, 4, 5]\n"
     ]
    }
   ],
   "source": [
    "a.extend(b)\n",
    "print(\"Array a: \", len(a), a)"
   ]
  },
  {
   "cell_type": "code",
   "execution_count": 18,
   "id": "45c08bb8",
   "metadata": {},
   "outputs": [
    {
     "name": "stdout",
     "output_type": "stream",
     "text": [
      "[1, 2, 3, 4, 5, 12, 12, 12, 22, 33, 44, 89, 100]\n"
     ]
    }
   ],
   "source": [
    "a.sort()\n",
    "print(a)"
   ]
  },
  {
   "cell_type": "code",
   "execution_count": 19,
   "id": "e0e02c3a",
   "metadata": {},
   "outputs": [
    {
     "name": "stdout",
     "output_type": "stream",
     "text": [
      "[100, 89, 44, 33, 22, 12, 12, 12, 5, 4, 3, 2, 1]\n"
     ]
    }
   ],
   "source": [
    "a.sort(reverse=True)\n",
    "print(a)"
   ]
  },
  {
   "cell_type": "code",
   "execution_count": 20,
   "id": "c2fb2744",
   "metadata": {},
   "outputs": [
    {
     "name": "stdout",
     "output_type": "stream",
     "text": [
      "89\n",
      "12 [100, 44, 33, 22, 12, 12, 12, 5, 4, 3, 2, 1]\n"
     ]
    }
   ],
   "source": [
    "x = a.pop(1)\n",
    "print(x)\n",
    "print(len(a), a)"
   ]
  },
  {
   "cell_type": "code",
   "execution_count": 22,
   "id": "3adc47ff",
   "metadata": {},
   "outputs": [
    {
     "name": "stdout",
     "output_type": "stream",
     "text": [
      "11 [100, 44, 22, 12, 12, 12, 5, 4, 3, 2, 1]\n"
     ]
    }
   ],
   "source": [
    "a.remove(33)\n",
    "print(len(a), a)"
   ]
  },
  {
   "cell_type": "code",
   "execution_count": 23,
   "id": "5ea3f864",
   "metadata": {},
   "outputs": [
    {
     "name": "stdout",
     "output_type": "stream",
     "text": [
      "12 [100, 555, 44, 22, 12, 12, 12, 5, 4, 3, 2, 1]\n"
     ]
    }
   ],
   "source": [
    "a.insert(1, 555)\n",
    "print(len(a), a)"
   ]
  },
  {
   "cell_type": "code",
   "execution_count": 24,
   "id": "e5489c57",
   "metadata": {},
   "outputs": [
    {
     "name": "stdout",
     "output_type": "stream",
     "text": [
      "Array a:  12 [100, 555, 44, 22, 12, 12, 12, 5, 4, 3, 2, 1]\n",
      "Array b:  12 [100, 555, 44, 22, 12, 12, 12, 5, 4, 3, 2, 1]\n"
     ]
    }
   ],
   "source": [
    "print(\"Array a: \", len(a), a)\n",
    "b=a.copy()\n",
    "print(\"Array b: \", len(b), b)\n"
   ]
  },
  {
   "cell_type": "code",
   "execution_count": 25,
   "id": "2b2023a2",
   "metadata": {},
   "outputs": [
    {
     "name": "stdout",
     "output_type": "stream",
     "text": [
      "Array b:  0 []\n"
     ]
    }
   ],
   "source": [
    "b.clear()\n",
    "print(\"Array b: \", len(b), b)"
   ]
  },
  {
   "cell_type": "code",
   "execution_count": null,
   "id": "2a20235b",
   "metadata": {},
   "outputs": [],
   "source": []
  }
 ],
 "metadata": {
  "kernelspec": {
   "display_name": "Python 3 (ipykernel)",
   "language": "python",
   "name": "python3"
  },
  "language_info": {
   "codemirror_mode": {
    "name": "ipython",
    "version": 3
   },
   "file_extension": ".py",
   "mimetype": "text/x-python",
   "name": "python",
   "nbconvert_exporter": "python",
   "pygments_lexer": "ipython3",
   "version": "3.7.11"
  }
 },
 "nbformat": 4,
 "nbformat_minor": 5
}

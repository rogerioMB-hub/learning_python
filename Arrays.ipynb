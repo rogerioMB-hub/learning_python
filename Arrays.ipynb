{
 "cells": [
  {
   "cell_type": "markdown",
   "id": "0181adcb",
   "metadata": {},
   "source": [
    "# Laço FOR acessando dados de um array"
   ]
  },
  {
   "cell_type": "code",
   "execution_count": null,
   "id": "b4b2b0b6",
   "metadata": {},
   "outputs": [],
   "source": [
    "a=[12, 15, 22, 33, 44, 89, 100]"
   ]
  },
  {
   "cell_type": "code",
   "execution_count": null,
   "id": "06e3f866",
   "metadata": {},
   "outputs": [],
   "source": [
    "print(a)"
   ]
  },
  {
   "cell_type": "code",
   "execution_count": null,
   "id": "df43e3ec",
   "metadata": {
    "scrolled": false
   },
   "outputs": [],
   "source": [
    "for i in range(7):\n",
    "    print(a[i])\n"
   ]
  },
  {
   "cell_type": "code",
   "execution_count": null,
   "id": "e64a4362",
   "metadata": {},
   "outputs": [],
   "source": [
    "len(a)"
   ]
  },
  {
   "cell_type": "code",
   "execution_count": null,
   "id": "143ec52f",
   "metadata": {},
   "outputs": [],
   "source": [
    "for i in range(len(a)):\n",
    "    print(a[i])"
   ]
  },
  {
   "cell_type": "code",
   "execution_count": null,
   "id": "fdb898a6",
   "metadata": {},
   "outputs": [],
   "source": [
    "a[6]"
   ]
  },
  {
   "cell_type": "code",
   "execution_count": null,
   "id": "1b50d823",
   "metadata": {},
   "outputs": [],
   "source": [
    "a[6]"
   ]
  },
  {
   "cell_type": "code",
   "execution_count": null,
   "id": "cae0344e",
   "metadata": {},
   "outputs": [],
   "source": [
    "a[0] = 23"
   ]
  },
  {
   "cell_type": "code",
   "execution_count": null,
   "id": "78ecd757",
   "metadata": {},
   "outputs": [],
   "source": [
    "a[0]"
   ]
  },
  {
   "cell_type": "code",
   "execution_count": null,
   "id": "39fc698e",
   "metadata": {},
   "outputs": [],
   "source": [
    "for i in range(7):\n",
    "    print(a[i])\n",
    "    "
   ]
  },
  {
   "cell_type": "code",
   "execution_count": null,
   "id": "016e20c3",
   "metadata": {},
   "outputs": [],
   "source": [
    "a.append(123)\n",
    "print(len(a), a)"
   ]
  },
  {
   "cell_type": "code",
   "execution_count": null,
   "id": "51a8893e",
   "metadata": {},
   "outputs": [],
   "source": [
    "a[0]=12\n",
    "a[1]=12\n",
    "a[7]=12\n",
    "print(len(a), a)\n",
    "\n"
   ]
  },
  {
   "cell_type": "code",
   "execution_count": null,
   "id": "d5dc00b9",
   "metadata": {},
   "outputs": [],
   "source": [
    "a.count(12)"
   ]
  },
  {
   "cell_type": "code",
   "execution_count": null,
   "id": "1cf2751f",
   "metadata": {},
   "outputs": [],
   "source": [
    "a.index(12)"
   ]
  },
  {
   "cell_type": "code",
   "execution_count": null,
   "id": "126d420b",
   "metadata": {},
   "outputs": [],
   "source": [
    "a.index(100)"
   ]
  },
  {
   "cell_type": "code",
   "execution_count": null,
   "id": "8639e2e5",
   "metadata": {},
   "outputs": [],
   "source": [
    "print(\"Array a: \", len(a), a)\n",
    "b=[1,2,3,4,5]\n",
    "print(\"Array b: \", len(b), b)"
   ]
  },
  {
   "cell_type": "code",
   "execution_count": null,
   "id": "14d9538b",
   "metadata": {},
   "outputs": [],
   "source": [
    "a.extend(b)\n",
    "print(\"Array a: \", len(a), a)"
   ]
  },
  {
   "cell_type": "code",
   "execution_count": null,
   "id": "45c08bb8",
   "metadata": {},
   "outputs": [],
   "source": [
    "a.sort()\n",
    "print(a)"
   ]
  },
  {
   "cell_type": "code",
   "execution_count": null,
   "id": "e0e02c3a",
   "metadata": {},
   "outputs": [],
   "source": [
    "a.sort(reverse=True)\n",
    "print(a)"
   ]
  },
  {
   "cell_type": "code",
   "execution_count": null,
   "id": "c2fb2744",
   "metadata": {},
   "outputs": [],
   "source": [
    "x = a.pop(1)\n",
    "print(x)\n",
    "print(len(a), a)"
   ]
  },
  {
   "cell_type": "code",
   "execution_count": null,
   "id": "3adc47ff",
   "metadata": {},
   "outputs": [],
   "source": [
    "a.remove(33)\n",
    "print(len(a), a)"
   ]
  },
  {
   "cell_type": "code",
   "execution_count": null,
   "id": "5ea3f864",
   "metadata": {},
   "outputs": [],
   "source": [
    "a.insert(1, 555)\n",
    "print(len(a), a)"
   ]
  },
  {
   "cell_type": "code",
   "execution_count": null,
   "id": "e5489c57",
   "metadata": {},
   "outputs": [],
   "source": [
    "print(\"Array a: \", len(a), a)\n",
    "b=a.copy()\n",
    "print(\"Array b: \", len(b), b)\n"
   ]
  },
  {
   "cell_type": "code",
   "execution_count": null,
   "id": "2b2023a2",
   "metadata": {},
   "outputs": [],
   "source": [
    "b.clear()\n",
    "print(\"Array b: \", len(b), b)"
   ]
  },
  {
   "cell_type": "markdown",
   "id": "cca3d2df",
   "metadata": {},
   "source": [
    "# calculando a soma dos termos do array a"
   ]
  },
  {
   "cell_type": "code",
   "execution_count": null,
   "id": "21d13331",
   "metadata": {},
   "outputs": [],
   "source": [
    "soma=0\n",
    "print(a)"
   ]
  },
  {
   "cell_type": "code",
   "execution_count": null,
   "id": "dd6a7000",
   "metadata": {},
   "outputs": [],
   "source": [
    "for i in range(len(a)):\n",
    "    soma = soma + a[i]"
   ]
  },
  {
   "cell_type": "code",
   "execution_count": null,
   "id": "1d7d1f26",
   "metadata": {},
   "outputs": [],
   "source": [
    "print(soma)"
   ]
  },
  {
   "cell_type": "markdown",
   "id": "04215ed4",
   "metadata": {},
   "source": [
    "# cal"
   ]
  },
  {
   "cell_type": "code",
   "execution_count": null,
   "id": "b0a12ded",
   "metadata": {},
   "outputs": [],
   "source": [
    "media = soma / len(a)\n",
    "print(media)"
   ]
  }
 ],
 "metadata": {
  "kernelspec": {
   "display_name": "Python 3 (ipykernel)",
   "language": "python",
   "name": "python3"
  },
  "language_info": {
   "codemirror_mode": {
    "name": "ipython",
    "version": 3
   },
   "file_extension": ".py",
   "mimetype": "text/x-python",
   "name": "python",
   "nbconvert_exporter": "python",
   "pygments_lexer": "ipython3",
   "version": "3.7.11"
  }
 },
 "nbformat": 4,
 "nbformat_minor": 5
}
